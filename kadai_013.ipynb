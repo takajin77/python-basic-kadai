{
  "nbformat": 4,
  "nbformat_minor": 0,
  "metadata": {
    "colab": {
      "provenance": []
    },
    "kernelspec": {
      "name": "python3",
      "display_name": "Python 3"
    },
    "language_info": {
      "name": "python"
    }
  },
  "cells": [
    {
      "cell_type": "code",
      "execution_count": 42,
      "metadata": {
        "colab": {
          "base_uri": "https://localhost:8080/"
        },
        "id": "b4C9Psz2aOXA",
        "outputId": "d8b520e6-abf4-4ffc-cd2a-2cad4533b2f2"
      },
      "outputs": [
        {
          "output_type": "stream",
          "name": "stdout",
          "text": [
            "1320.0円\n"
          ]
        }
      ],
      "source": [
        "def total_price(price:int, tax:int)->int:\n",
        "  tax_price = price * tax/100\n",
        "  total_price = price + tax_price\n",
        "  return total_price\n",
        "# 表示\n",
        "print(f\"{total_price(price, tax)}円\")\n",
        "\n",
        "# 価格と税率を記入\n",
        "price = 1200\n",
        "tax = 10\n",
        "\n",
        "\n",
        "\n",
        "\n",
        "\n"
      ]
    }
  ]
}