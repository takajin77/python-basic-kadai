{
  "nbformat": 4,
  "nbformat_minor": 0,
  "metadata": {
    "colab": {
      "provenance": []
    },
    "kernelspec": {
      "name": "python3",
      "display_name": "Python 3"
    },
    "language_info": {
      "name": "python"
    }
  },
  "cells": [
    {
      "cell_type": "code",
      "execution_count": 4,
      "metadata": {
        "colab": {
          "base_uri": "https://localhost:8080/"
        },
        "id": "b4C9Psz2aOXA",
        "outputId": "0767639c-5992-44ba-ef1f-5ecc60a8579f"
      },
      "outputs": [
        {
          "output_type": "execute_result",
          "data": {
            "text/plain": [
              "120.0"
            ]
          },
          "metadata": {},
          "execution_count": 4
        }
      ],
      "source": [
        "# 消費税額、価格、税率の関数を定義\n",
        "def tax_price (price :int,  tax :int) ->int:\n",
        "  # 戻り値で計算をする\n",
        "  return price * tax/100\n",
        "  # 計算結果を表示\n",
        "  print(f\"{tax_price}円\")\n",
        "# 価格と税率を記入\n",
        "tax_price(1200 ,10)"
      ]
    }
  ]
}