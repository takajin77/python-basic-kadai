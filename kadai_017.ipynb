{
  "nbformat": 4,
  "nbformat_minor": 0,
  "metadata": {
    "colab": {
      "provenance": []
    },
    "kernelspec": {
      "name": "python3",
      "display_name": "Python 3"
    },
    "language_info": {
      "name": "python"
    }
  },
  "cells": [
    {
      "cell_type": "code",
      "execution_count": 14,
      "metadata": {
        "colab": {
          "base_uri": "https://localhost:8080/"
        },
        "id": "z5_OwkEa7dXb",
        "outputId": "72b1a0de-0ea8-41ed-adbd-fc035f60db5f"
      },
      "outputs": [
        {
          "output_type": "stream",
          "name": "stdout",
          "text": [
            "侍次郎さんは大人ではないです\n",
            "侍三郎さんは大人です\n",
            "侍四郎さんは大人ではないです\n"
          ]
        }
      ],
      "source": [
        "# class 作成\n",
        "class Human:\n",
        "  def __init__(self, name, age):\n",
        "    self.name = name\n",
        "    self.age = age\n",
        "\n",
        "  # 大人かどうかチェック\n",
        "  def check_adult(self):\n",
        "    if self.age >= 20:\n",
        "      print(f\"{self.name}さんは大人です\")\n",
        "    else:\n",
        "      print(f\"{self.name}さんは大人ではないです\")\n",
        "\n",
        "man_1=Human(\"侍次郎\", 18)\n",
        "man_2=Human(\"侍三郎\", 21)\n",
        "man_3=Human(\"侍四郎\", 19)\n",
        "\n",
        "humans =[man_1, man_2, man_3]\n",
        "for man in humans:\n",
        "  man.check_adult()\n"
      ]
    }
  ]
}