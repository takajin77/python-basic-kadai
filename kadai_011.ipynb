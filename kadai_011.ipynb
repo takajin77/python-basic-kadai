{
  "nbformat": 4,
  "nbformat_minor": 0,
  "metadata": {
    "colab": {
      "provenance": []
    },
    "kernelspec": {
      "name": "python3",
      "display_name": "Python 3"
    },
    "language_info": {
      "name": "python"
    }
  },
  "cells": [
    {
      "cell_type": "code",
      "execution_count": 18,
      "metadata": {
        "colab": {
          "base_uri": "https://localhost:8080/"
        },
        "id": "8BhHXWNfk-L-",
        "outputId": "f9c603cb-6ebb-4ac2-a819-47f8381aa449"
      },
      "outputs": [
        {
          "output_type": "stream",
          "name": "stdout",
          "text": [
            "1 水\n",
            "2 金\n",
            "3 地\n",
            "4 火\n",
            "5 木\n",
            "6 土\n",
            "7 天\n",
            "8 海\n",
            "9 冥\n",
            "10 水\n",
            "11 金\n",
            "12 地\n",
            "13 火\n",
            "14 木\n",
            "15 土\n",
            "16 天\n",
            "17 海\n",
            "18 冥\n"
          ]
        }
      ],
      "source": [
        "array = [\"水\", \"金\", \"地\", \"火\", \"木\", \"土\", \"天\", \"海\", \"冥\"]\n",
        "\n",
        "# for文\n",
        "for index, value in enumerate (array ,1):\n",
        "  print(f\"{index} {value}\")\n",
        "# for index, value in enumerate(array ,10):\n",
        "#   print(f\"{index} {value}\")\n",
        "\n",
        "# while文\n",
        "i = 0\n",
        "while i < 9:\n",
        "  print(f\"{i+10} {array[i]}\")\n",
        "  i += 1\n"
      ]
    }
  ]
}