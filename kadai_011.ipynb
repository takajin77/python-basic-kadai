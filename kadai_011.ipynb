{
  "nbformat": 4,
  "nbformat_minor": 0,
  "metadata": {
    "colab": {
      "provenance": []
    },
    "kernelspec": {
      "name": "python3",
      "display_name": "Python 3"
    },
    "language_info": {
      "name": "python"
    }
  },
  "cells": [
    {
      "cell_type": "code",
      "execution_count": 14,
      "metadata": {
        "colab": {
          "base_uri": "https://localhost:8080/"
        },
        "id": "8BhHXWNfk-L-",
        "outputId": "ee123525-43b2-4ff2-b0bd-e03fb89806c0"
      },
      "outputs": [
        {
          "output_type": "stream",
          "name": "stdout",
          "text": [
            "1 水\n",
            "2 金\n",
            "3 地\n",
            "4 火\n",
            "5 木\n",
            "6 土\n",
            "7 天\n",
            "8 海\n",
            "9 冥\n",
            "10 水\n",
            "11 金\n",
            "12 地\n",
            "13 火\n",
            "14 木\n",
            "15 土\n",
            "16 天\n",
            "17 海\n",
            "18 冥\n",
            "1 水\n",
            "2 金\n",
            "3 地\n",
            "4 火\n",
            "5 木\n",
            "6 土\n",
            "7 天\n",
            "8 海\n",
            "9 冥\n",
            "10 水\n",
            "11 金\n",
            "12 地\n",
            "13 火\n",
            "14 木\n",
            "15 土\n",
            "16 天\n",
            "17 海\n",
            "18 冥\n"
          ]
        }
      ],
      "source": [
        "array = [\"水\", \"金\", \"地\", \"火\", \"木\", \"土\", \"天\", \"海\", \"冥\"]\n",
        "\n",
        "# for文\n",
        "for index, value in enumerate (array ,1):\n",
        "  print(f\"{index} {value}\")\n",
        "for index, value in enumerate(array ,10):\n",
        "  print(f\"{index} {value}\")\n",
        "\n",
        "# while文\n",
        "i = 1\n",
        "while i < 19:\n",
        "  if i < 10:\n",
        "    print(f\"{i} {array[i-1]}\")\n",
        "  else:\n",
        "    print(f\"{i} {array[i-10]}\")\n",
        "  i += 1\n"
      ]
    }
  ]
}